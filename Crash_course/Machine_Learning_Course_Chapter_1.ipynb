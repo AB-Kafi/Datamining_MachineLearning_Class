{
  "nbformat": 4,
  "nbformat_minor": 0,
  "metadata": {
    "colab": {
      "provenance": []
    },
    "kernelspec": {
      "name": "python3",
      "display_name": "Python 3"
    },
    "language_info": {
      "name": "python"
    }
  },
  "cells": [
    {
      "cell_type": "markdown",
      "source": [
        "**Vector Matrix and Arrays**"
      ],
      "metadata": {
        "id": "TlBxai7Nx2jn"
      }
    },
    {
      "cell_type": "markdown",
      "source": [
        "Create a Vector"
      ],
      "metadata": {
        "id": "4qTl9dj8x_sa"
      }
    },
    {
      "cell_type": "code",
      "source": [
        "# list of numbers\n",
        "#dot product\n",
        "import numpy as np\n",
        "\n",
        "vector_row = np.array([1, 2, 3])\n",
        "print(vector_row)\n",
        "vector_col = np.array([\n",
        "    [1],\n",
        "    [2],\n",
        "    [3]\n",
        "])\n",
        "print(vector_col)\n",
        "\n",
        "# (r,c) (mxn)\n",
        "# row vector = (1,m)\n",
        "# column vector = (m,1)"
      ],
      "metadata": {
        "colab": {
          "base_uri": "https://localhost:8080/"
        },
        "id": "POGSbc5UHYQ-",
        "outputId": "770609da-0c42-4854-c2ac-c05159616693"
      },
      "execution_count": null,
      "outputs": [
        {
          "output_type": "stream",
          "name": "stdout",
          "text": [
            "[1 2 3]\n",
            "[[1]\n",
            " [2]\n",
            " [3]]\n"
          ]
        }
      ]
    },
    {
      "cell_type": "markdown",
      "source": [
        "Create a matrix"
      ],
      "metadata": {
        "id": "BoTZRJHXyHZK"
      }
    },
    {
      "cell_type": "code",
      "source": [
        "matrix = np.array([\n",
        "    [1,2],\n",
        "    [2,3],\n",
        "    [3,4]\n",
        "])\n",
        "print(matrix)\n",
        "print(matrix.shape)\n",
        "print(vector_col.shape)\n",
        "print(type(matrix))"
      ],
      "metadata": {
        "colab": {
          "base_uri": "https://localhost:8080/"
        },
        "id": "RsfpoV4NKAi-",
        "outputId": "50c8dfc8-35e8-4fed-dbca-704545ed517d"
      },
      "execution_count": null,
      "outputs": [
        {
          "output_type": "stream",
          "name": "stdout",
          "text": [
            "[[1 2]\n",
            " [2 3]\n",
            " [3 4]]\n",
            "(3, 2)\n",
            "(3, 1)\n",
            "<class 'numpy.ndarray'>\n"
          ]
        }
      ]
    },
    {
      "cell_type": "code",
      "source": [
        "matx = np.mat([\n",
        "    [1,2],\n",
        "    [2,3],\n",
        "    [3,4]\n",
        "])\n",
        "\n",
        "print(matx)\n",
        "print(matx.shape)\n",
        "print(type(matx))\n",
        "\n",
        "#which one to use. np.mat = no. np.array"
      ],
      "metadata": {
        "colab": {
          "base_uri": "https://localhost:8080/"
        },
        "id": "m7q1bM_uLCbi",
        "outputId": "5f186ef5-90e3-4255-b276-9eb0272e409e"
      },
      "execution_count": null,
      "outputs": [
        {
          "output_type": "stream",
          "name": "stdout",
          "text": [
            "[[1 2]\n",
            " [2 3]\n",
            " [3 4]]\n",
            "(3, 2)\n",
            "<class 'numpy.matrix'>\n"
          ]
        }
      ]
    },
    {
      "cell_type": "markdown",
      "source": [
        "Create a Sparse Matrix"
      ],
      "metadata": {
        "id": "eZrb_yaZyNWj"
      }
    },
    {
      "cell_type": "code",
      "source": [
        "#movie review netflix 10,000 1000\n",
        "import numpy as np\n",
        "from scipy import sparse\n",
        "matx = np.mat([\n",
        "    [0,0],\n",
        "    [2,0],\n",
        "    [3,0]\n",
        "])\n",
        "\n",
        "# print(matx)\n",
        "sparse_mat = sparse.csr_matrix(matx)\n",
        "print(sparse_mat)"
      ],
      "metadata": {
        "colab": {
          "base_uri": "https://localhost:8080/"
        },
        "id": "REtbgdZ24OoX",
        "outputId": "c621fb6b-0d74-4f64-9f7c-69b93804f9b7"
      },
      "execution_count": null,
      "outputs": [
        {
          "output_type": "stream",
          "name": "stdout",
          "text": [
            "  (1, 0)\t2\n",
            "  (2, 0)\t3\n"
          ]
        }
      ]
    },
    {
      "cell_type": "markdown",
      "source": [
        "Selecting Elements in vector and matrix"
      ],
      "metadata": {
        "id": "zmp8dfIkySxn"
      }
    },
    {
      "cell_type": "code",
      "source": [
        "vector_row = np.array([1, 2, 3])\n",
        "# print(vector_row)\n",
        "vector_col = np.array([\n",
        "    [1],\n",
        "    [2],\n",
        "    [3]\n",
        "])\n",
        "\n",
        "print(vector_row[1])\n"
      ],
      "metadata": {
        "colab": {
          "base_uri": "https://localhost:8080/"
        },
        "id": "oRqwSern6DCC",
        "outputId": "588e3dfc-7dd3-4b38-ade5-3a25e492db69"
      },
      "execution_count": null,
      "outputs": [
        {
          "output_type": "stream",
          "name": "stdout",
          "text": [
            "2\n"
          ]
        }
      ]
    },
    {
      "cell_type": "code",
      "source": [
        "matx = np.mat([\n",
        "    [1,2],\n",
        "    [2,3],\n",
        "    [3,4]\n",
        "])\n",
        "\n",
        "print(matx[2,0])"
      ],
      "metadata": {
        "colab": {
          "base_uri": "https://localhost:8080/"
        },
        "id": "AjKII_DA6auj",
        "outputId": "0fcaf29c-5bfe-4e45-9cbf-7b4f0ac823fc"
      },
      "execution_count": null,
      "outputs": [
        {
          "output_type": "stream",
          "name": "stdout",
          "text": [
            "3\n"
          ]
        }
      ]
    },
    {
      "cell_type": "markdown",
      "source": [
        "Describe a matrix"
      ],
      "metadata": {
        "id": "WmuSZsXNyZ2f"
      }
    },
    {
      "cell_type": "code",
      "source": [
        "import numpy as np\n",
        "matrix = np.array([[1,2,3,4],\n",
        "                   [4,5,6,7]])\n",
        "print(matrix)"
      ],
      "metadata": {
        "colab": {
          "base_uri": "https://localhost:8080/"
        },
        "id": "lPjlxwgq62PY",
        "outputId": "8ecb7647-48bd-41ff-bd89-be4eea680b51"
      },
      "execution_count": null,
      "outputs": [
        {
          "output_type": "stream",
          "name": "stdout",
          "text": [
            "[[1 2 3 4]\n",
            " [4 5 6 7]]\n"
          ]
        }
      ]
    },
    {
      "cell_type": "code",
      "source": [
        "matrix.shape\n",
        "matrix.size\n",
        "matrix.ndim"
      ],
      "metadata": {
        "colab": {
          "base_uri": "https://localhost:8080/"
        },
        "id": "XtGZGx9r7D-r",
        "outputId": "133512e9-a53a-4af9-8104-4ac9bffa2fa7"
      },
      "execution_count": null,
      "outputs": [
        {
          "output_type": "execute_result",
          "data": {
            "text/plain": [
              "2"
            ]
          },
          "metadata": {},
          "execution_count": 54
        }
      ]
    },
    {
      "cell_type": "markdown",
      "source": [
        "Numpy Array"
      ],
      "metadata": {
        "id": "TmHGFEqhyjDl"
      }
    },
    {
      "cell_type": "code",
      "source": [
        "list1 = [1,2,4,5]\n",
        "print(list1*3)\n",
        "\n",
        "numpylist = np.array(list1)\n",
        "print(numpylist*3)"
      ],
      "metadata": {
        "colab": {
          "base_uri": "https://localhost:8080/"
        },
        "id": "CdOtuVyk7pDp",
        "outputId": "be172587-4e19-4f67-d71c-28cd8965eb63"
      },
      "execution_count": null,
      "outputs": [
        {
          "output_type": "stream",
          "name": "stdout",
          "text": [
            "[1, 2, 4, 5, 1, 2, 4, 5, 1, 2, 4, 5]\n",
            "[ 3  6 12 15]\n"
          ]
        }
      ]
    },
    {
      "cell_type": "markdown",
      "source": [
        "Operations in Numpy Array"
      ],
      "metadata": {
        "id": "WRTTjqDoyq8k"
      }
    },
    {
      "cell_type": "code",
      "source": [
        "matrix = np.array([[1, 2, 3],\n",
        " [4, 5, 6],\n",
        " [7, 8, 9],\n",
        "])\n",
        "\n",
        "matrix"
      ],
      "metadata": {
        "colab": {
          "base_uri": "https://localhost:8080/"
        },
        "id": "PxoJZarT8n3P",
        "outputId": "d4205e0c-78df-4ef3-b45f-1e5580f5c1e4"
      },
      "execution_count": null,
      "outputs": [
        {
          "output_type": "execute_result",
          "data": {
            "text/plain": [
              "array([[1, 2, 3],\n",
              "       [4, 5, 6],\n",
              "       [7, 8, 9]])"
            ]
          },
          "metadata": {},
          "execution_count": 68
        }
      ]
    },
    {
      "cell_type": "markdown",
      "source": [
        "Finding the maximum and minimum values"
      ],
      "metadata": {
        "id": "TAw6v6Z_ywJV"
      }
    },
    {
      "cell_type": "code",
      "source": [
        "# print(matrix)\n",
        "# min subset array\n",
        "# (r,c) = (0,1)\n",
        "\n",
        "np.min(matrix,axis=1)\n"
      ],
      "metadata": {
        "colab": {
          "base_uri": "https://localhost:8080/"
        },
        "id": "s6FZ1QMb4TmS",
        "outputId": "a91489cf-8ce2-46a5-f40d-935283882719"
      },
      "execution_count": null,
      "outputs": [
        {
          "output_type": "execute_result",
          "data": {
            "text/plain": [
              "array([1, 4, 7, 7])"
            ]
          },
          "metadata": {},
          "execution_count": 57
        }
      ]
    },
    {
      "cell_type": "markdown",
      "source": [
        "Average, Variance, Standard Deviation"
      ],
      "metadata": {
        "id": "wbhfl3uqy1uJ"
      }
    },
    {
      "cell_type": "code",
      "source": [
        "np.mean(matrix)\n",
        "np.var(matrix)\n",
        "np.std(matrix)"
      ],
      "metadata": {
        "colab": {
          "base_uri": "https://localhost:8080/"
        },
        "id": "nzHQ2rS86iVy",
        "outputId": "74c94d76-44b7-4288-fba6-d76f84e51f56"
      },
      "execution_count": null,
      "outputs": [
        {
          "output_type": "execute_result",
          "data": {
            "text/plain": [
              "2.6180463454008347"
            ]
          },
          "metadata": {},
          "execution_count": 58
        }
      ]
    },
    {
      "cell_type": "markdown",
      "source": [
        "Reshaping Array"
      ],
      "metadata": {
        "id": "yv161sJ4y7a7"
      }
    },
    {
      "cell_type": "code",
      "source": [
        "print(matrix) #r*c = 12\n",
        "\n",
        "matrix.reshape(4,-1) #r,c"
      ],
      "metadata": {
        "colab": {
          "base_uri": "https://localhost:8080/"
        },
        "id": "rsuO8_7o7nni",
        "outputId": "3a53587f-7b58-452c-9483-ffff194557cd"
      },
      "execution_count": null,
      "outputs": [
        {
          "output_type": "stream",
          "name": "stdout",
          "text": [
            "[[1 2 3]\n",
            " [4 5 6]\n",
            " [7 8 9]\n",
            " [7 8 9]]\n"
          ]
        },
        {
          "output_type": "execute_result",
          "data": {
            "text/plain": [
              "array([[1, 2, 3],\n",
              "       [4, 5, 6],\n",
              "       [7, 8, 9],\n",
              "       [7, 8, 9]])"
            ]
          },
          "metadata": {},
          "execution_count": 59
        }
      ]
    },
    {
      "cell_type": "markdown",
      "source": [
        "Vector or Matrix Transpose"
      ],
      "metadata": {
        "id": "rlFiQIday-Y7"
      }
    },
    {
      "cell_type": "code",
      "source": [
        "# print(matrix)\n",
        "# matrix.T\n",
        "np.array([[1,2,3]]).T"
      ],
      "metadata": {
        "colab": {
          "base_uri": "https://localhost:8080/"
        },
        "id": "HY3boNbS80sC",
        "outputId": "562e3999-4941-4369-a5a3-d8828834697f"
      },
      "execution_count": null,
      "outputs": [
        {
          "output_type": "execute_result",
          "data": {
            "text/plain": [
              "array([[1],\n",
              "       [2],\n",
              "       [3]])"
            ]
          },
          "metadata": {},
          "execution_count": 60
        }
      ]
    },
    {
      "cell_type": "markdown",
      "source": [
        "Flattening a Matrix"
      ],
      "metadata": {
        "id": "oszaqAotzCI7"
      }
    },
    {
      "cell_type": "code",
      "source": [
        "print(matrix)\n",
        "print(matrix.flatten())\n",
        "print(matrix.reshape(1,-1)) #r,c"
      ],
      "metadata": {
        "colab": {
          "base_uri": "https://localhost:8080/"
        },
        "id": "IccCQfs0-_UZ",
        "outputId": "824df073-c8fa-4b19-f3ad-a5e60c8a1979"
      },
      "execution_count": null,
      "outputs": [
        {
          "output_type": "stream",
          "name": "stdout",
          "text": [
            "[[1 2 3]\n",
            " [4 5 6]\n",
            " [7 8 9]\n",
            " [7 8 9]]\n",
            "[1 2 3 4 5 6 7 8 9 7 8 9]\n",
            "[[1 2 3 4 5 6 7 8 9 7 8 9]]\n"
          ]
        }
      ]
    },
    {
      "cell_type": "markdown",
      "source": [
        "Calculating Determinant"
      ],
      "metadata": {
        "id": "1vbIRTNkzgCa"
      }
    },
    {
      "cell_type": "code",
      "source": [
        "print(matrix)\n",
        "\n",
        "np.linalg.det(matrix)"
      ],
      "metadata": {
        "colab": {
          "base_uri": "https://localhost:8080/"
        },
        "collapsed": true,
        "id": "rtM29i9GCrF5",
        "outputId": "398dfe0f-98ca-405a-8d00-5efcbb5c5f4d"
      },
      "execution_count": null,
      "outputs": [
        {
          "output_type": "stream",
          "name": "stdout",
          "text": [
            "[[1 2 3]\n",
            " [4 5 6]\n",
            " [7 8 9]]\n"
          ]
        },
        {
          "output_type": "execute_result",
          "data": {
            "text/plain": [
              "0.0"
            ]
          },
          "metadata": {},
          "execution_count": 72
        }
      ]
    },
    {
      "cell_type": "markdown",
      "source": [
        "Diagonal of a Matrix"
      ],
      "metadata": {
        "id": "WMpoRoXNzixv"
      }
    },
    {
      "cell_type": "code",
      "source": [
        "matrix.diagonal()"
      ],
      "metadata": {
        "colab": {
          "base_uri": "https://localhost:8080/"
        },
        "id": "8xdP3ZixD8ml",
        "outputId": "82a60b72-4568-4a48-e00c-8f7831df10a1"
      },
      "execution_count": null,
      "outputs": [
        {
          "output_type": "execute_result",
          "data": {
            "text/plain": [
              "array([1, 5, 9])"
            ]
          },
          "metadata": {},
          "execution_count": 73
        }
      ]
    },
    {
      "cell_type": "markdown",
      "source": [
        "Trace of a matrix (sum of diagonal elements)"
      ],
      "metadata": {
        "id": "bnT8MJS0zp5p"
      }
    },
    {
      "cell_type": "code",
      "source": [
        "# matrix.trace()\n",
        "sum(matrix.diagonal())"
      ],
      "metadata": {
        "colab": {
          "base_uri": "https://localhost:8080/"
        },
        "id": "rMk0V4jhEZss",
        "outputId": "db1a2624-0690-4e6a-e67c-bf1c66870abc"
      },
      "execution_count": null,
      "outputs": [
        {
          "output_type": "execute_result",
          "data": {
            "text/plain": [
              "15"
            ]
          },
          "metadata": {},
          "execution_count": 76
        }
      ]
    },
    {
      "cell_type": "markdown",
      "source": [
        "Eigenvalues and Eigenvectors"
      ],
      "metadata": {
        "id": "qVqLv9Vpzuyc"
      }
    },
    {
      "cell_type": "code",
      "source": [
        "print(matrix)\n",
        "\n",
        "egvalue, egvector = np.linalg.eig(matrix)\n",
        "print(egvalue)\n",
        "print(egvector)"
      ],
      "metadata": {
        "colab": {
          "base_uri": "https://localhost:8080/"
        },
        "id": "3U71m4ZNEqLX",
        "outputId": "7ce1d5e4-b2a0-4ae8-b5fe-4d3b2756f018"
      },
      "execution_count": null,
      "outputs": [
        {
          "output_type": "stream",
          "name": "stdout",
          "text": [
            "[[1 2 3]\n",
            " [4 5 6]\n",
            " [7 8 9]]\n",
            "[ 1.61168440e+01 -1.11684397e+00 -1.30367773e-15]\n",
            "[[-0.23197069 -0.78583024  0.40824829]\n",
            " [-0.52532209 -0.08675134 -0.81649658]\n",
            " [-0.8186735   0.61232756  0.40824829]]\n"
          ]
        }
      ]
    },
    {
      "cell_type": "markdown",
      "source": [
        "Dot Product"
      ],
      "metadata": {
        "id": "8DeGYXdFz-ft"
      }
    },
    {
      "cell_type": "code",
      "source": [
        "vector_a = np.array([1,2,3])\n",
        "vector_b = np.array([4,5,6])\n",
        "\n",
        "# np.dot(vector_a, vector_b)\n",
        "\n",
        "vector_a @ vector_b"
      ],
      "metadata": {
        "colab": {
          "base_uri": "https://localhost:8080/"
        },
        "id": "4QLC1Jk4Npes",
        "outputId": "9b2d423a-5dde-4112-9d33-8a5ce64785b6"
      },
      "execution_count": null,
      "outputs": [
        {
          "output_type": "execute_result",
          "data": {
            "text/plain": [
              "32"
            ]
          },
          "metadata": {},
          "execution_count": 82
        }
      ]
    },
    {
      "cell_type": "markdown",
      "source": [
        "Adding and Substracting Matrices"
      ],
      "metadata": {
        "id": "NzFEXHt-0E_o"
      }
    },
    {
      "cell_type": "code",
      "source": [
        "np.add(vector_a, vector_b)\n",
        "np.subtract(vector_a,vector_b)"
      ],
      "metadata": {
        "colab": {
          "base_uri": "https://localhost:8080/"
        },
        "id": "whaz7CKQOKsf",
        "outputId": "79a13fb8-c215-48df-9a96-ac7c0b11f22b"
      },
      "execution_count": null,
      "outputs": [
        {
          "output_type": "execute_result",
          "data": {
            "text/plain": [
              "array([-3, -3, -3])"
            ]
          },
          "metadata": {},
          "execution_count": 86
        }
      ]
    },
    {
      "cell_type": "markdown",
      "source": [
        "Matrix Inversion"
      ],
      "metadata": {
        "id": "P9nVkHlW0NRB"
      }
    },
    {
      "cell_type": "code",
      "source": [
        "matrix = np.array([[1, 4],\n",
        " [2, 5]])\n",
        "np.linalg.inv(matrix)"
      ],
      "metadata": {
        "colab": {
          "base_uri": "https://localhost:8080/"
        },
        "id": "Si2SpvKsVJ57",
        "outputId": "c535ba16-5f2f-4467-d495-59f318caedb0"
      },
      "execution_count": null,
      "outputs": [
        {
          "output_type": "execute_result",
          "data": {
            "text/plain": [
              "array([[-1.66666667,  1.33333333],\n",
              "       [ 0.66666667, -0.33333333]])"
            ]
          },
          "metadata": {},
          "execution_count": 89
        }
      ]
    },
    {
      "cell_type": "markdown",
      "source": [
        "Random Value Generation"
      ],
      "metadata": {
        "id": "2NiiuYBh0QBC"
      }
    },
    {
      "cell_type": "code",
      "source": [
        "np.random.random(3) #0-1\n",
        "np.random.randint(0,11,3)\n",
        "#distribution\n",
        "np.random.normal(0,1,3)\n",
        "#logistic, uniform"
      ],
      "metadata": {
        "colab": {
          "base_uri": "https://localhost:8080/"
        },
        "id": "EDJo3fSaVwR4",
        "outputId": "ce6c9cad-f110-4f7a-d49a-e4a14718e154"
      },
      "execution_count": null,
      "outputs": [
        {
          "output_type": "execute_result",
          "data": {
            "text/plain": [
              "array([ 0.64588751, -0.62095636, -1.82488782])"
            ]
          },
          "metadata": {},
          "execution_count": 97
        }
      ]
    }
  ]
}